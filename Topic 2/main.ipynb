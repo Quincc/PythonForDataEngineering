{
 "cells": [
  {
   "cell_type": "code",
   "id": "initial_id",
   "metadata": {
    "collapsed": true,
    "ExecuteTime": {
     "end_time": "2024-09-21T15:30:51.017051Z",
     "start_time": "2024-09-21T15:30:51.011761Z"
    }
   },
   "source": [
    "import datetime as dt\n",
    "\n",
    "with open('magazines.txt', 'r') as file:\n",
    "    res = 0\n",
    "    for line in file:\n",
    "        if line == \"The Moscow Times\\n\":\n",
    "            print(dt.datetime.now().strftime('%A, %B %d, %Y'))\n",
    "        elif line == 'The Guardian\\n':\n",
    "            print(dt.datetime.now().strftime('%A, %d.%m.%y'))\n",
    "        elif line == \"Daily News\":\n",
    "            print(dt.datetime.now().strftime('%A, %d %B %Y'))\n",
    "            "
   ],
   "outputs": [
    {
     "name": "stdout",
     "output_type": "stream",
     "text": [
      "Saturday, September 21, 2024\n",
      "Saturday, 21.09.24\n",
      "Saturday, 21 September 2024\n"
     ]
    }
   ],
   "execution_count": 11
  },
  {
   "metadata": {},
   "cell_type": "code",
   "outputs": [],
   "execution_count": null,
   "source": "",
   "id": "205ad30c7cbc5a84"
  }
 ],
 "metadata": {
  "kernelspec": {
   "display_name": "Python 3",
   "language": "python",
   "name": "python3"
  },
  "language_info": {
   "codemirror_mode": {
    "name": "ipython",
    "version": 2
   },
   "file_extension": ".py",
   "mimetype": "text/x-python",
   "name": "python",
   "nbconvert_exporter": "python",
   "pygments_lexer": "ipython2",
   "version": "2.7.6"
  }
 },
 "nbformat": 4,
 "nbformat_minor": 5
}
