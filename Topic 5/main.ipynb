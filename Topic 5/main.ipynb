{
 "cells": [
  {
   "cell_type": "code",
   "id": "initial_id",
   "metadata": {
    "collapsed": true
   },
   "source": [
    "import time\n",
    "import multiprocessing\n",
    "\n",
    "# Функции для вычислений по формулам\n",
    "def formula_1(x):\n",
    "    return x**2 - x**2 + x*4 - x*5 + x + x\n",
    "\n",
    "def formula_2(x):\n",
    "    return x + x\n",
    "\n",
    "def formula_3(result_1, result_2):\n",
    "    return result_1 + result_2\n",
    "\n",
    "# Функция для выполнения вычислений по формулам и замера времени\n",
    "def perform_calculations(iterations):\n",
    "    start_time = time.time()\n",
    "\n",
    "    # Шаг 1: Вычисления по формуле 1\n",
    "    start_formula_1 = time.time()\n",
    "    with multiprocessing.Pool() as pool:\n",
    "        result_1 = pool.map(formula_1, range(iterations))\n",
    "    duration_formula_1 = time.time() - start_formula_1\n",
    "\n",
    "    # Шаг 2: Вычисления по формуле 2\n",
    "    start_formula_2 = time.time()\n",
    "    with multiprocessing.Pool() as pool:\n",
    "        result_2 = pool.map(formula_2, range(iterations))\n",
    "    duration_formula_2 = time.time() - start_formula_2\n",
    "\n",
    "    # Шаг 3: Вычисления по формуле 3\n",
    "    start_formula_3 = time.time()\n",
    "    result_3 = [formula_3(r1, r2) for r1, r2 in zip(result_1, result_2)]\n",
    "    duration_formula_3 = time.time() - start_formula_3\n",
    "\n",
    "    total_duration = time.time() - start_time\n",
    "\n",
    "    return {\n",
    "        \"iterations\": iterations,\n",
    "        \"formula_1_duration\": duration_formula_1,\n",
    "        \"formula_2_duration\": duration_formula_2,\n",
    "        \"formula_3_duration\": duration_formula_3,\n",
    "        \"total_duration\": total_duration\n",
    "    }\n",
    "\n",
    "if __name__ == '__main__':\n",
    "    # Выполним для 10 000 и 100 000 итераций\n",
    "    results_10000 = perform_calculations(10000)\n",
    "    results_100000 = perform_calculations(100000)\n",
    "\n",
    "    print(results_10000)\n",
    "    print(results_100000)\n"
   ],
   "outputs": [],
   "execution_count": null
  },
  {
   "metadata": {},
   "cell_type": "code",
   "source": "",
   "id": "ed644ee0a5799fee",
   "outputs": [],
   "execution_count": null
  }
 ],
 "metadata": {
  "kernelspec": {
   "display_name": "Python 3",
   "language": "python",
   "name": "python3"
  },
  "language_info": {
   "codemirror_mode": {
    "name": "ipython",
    "version": 2
   },
   "file_extension": ".py",
   "mimetype": "text/x-python",
   "name": "python",
   "nbconvert_exporter": "python",
   "pygments_lexer": "ipython2",
   "version": "2.7.6"
  }
 },
 "nbformat": 4,
 "nbformat_minor": 5
}
