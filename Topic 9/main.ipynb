{
 "cells": [
  {
   "cell_type": "code",
   "id": "initial_id",
   "metadata": {
    "collapsed": true,
    "ExecuteTime": {
     "end_time": "2024-11-23T11:48:25.604010Z",
     "start_time": "2024-11-23T11:48:20.259417Z"
    }
   },
   "source": [
    "from pyspark.sql import SparkSession\n",
    "from pyspark.sql.functions import col, explode, split, lower, regexp_replace\n",
    "\n",
    "spark = SparkSession.builder \\\n",
    "    .appName(\"Movie Word Count with Preprocessing\") \\\n",
    "    .getOrCreate()\n",
    "\n",
    "df = spark.read.csv(\"/Users/maximgolovchenko/Documents/University/HSE/PythonForDataEngineering/Topic 9/movies.csv\", header=True)\n",
    "\n",
    "words_df = df.select(\n",
    "    explode(\n",
    "        split(\n",
    "            regexp_replace(lower(col(\"Film\")), \"[^a-zA-Z0-9\\s]\", \"\"), \n",
    "            \"\\s+\"  \n",
    "        )\n",
    "    ).alias(\"word\")\n",
    ")\n",
    "\n",
    "stop_words = set([\"the\", \"and\", \"a\", \"of\", \"to\", \"in\", \"is\", \"it\", \"you\", \"that\", \"for\", \"on\", \"with\", \"as\", \"this\", \"by\"])\n",
    "words_df = words_df.filter(~col(\"word\").isin(stop_words))  \n",
    "\n",
    "word_counts = words_df.groupBy(\"word\").count()\n",
    "\n",
    "most_common_word = word_counts.orderBy(col(\"count\").desc()).first()\n",
    "\n",
    "print(f\"Самое частое слово '{most_common_word['word']}' которое встречается {most_common_word['count']} раза.\")\n",
    "\n",
    "spark.stop()"
   ],
   "outputs": [
    {
     "name": "stderr",
     "output_type": "stream",
     "text": [
      "Setting default log level to \"WARN\".\n",
      "To adjust logging level use sc.setLogLevel(newLevel). For SparkR, use setLogLevel(newLevel).\n",
      "24/11/23 16:48:22 WARN NativeCodeLoader: Unable to load native-hadoop library for your platform... using builtin-java classes where applicable\n"
     ]
    },
    {
     "name": "stdout",
     "output_type": "stream",
     "text": [
      "Самое частое слово 'love' которое встречается 4 раза.\n"
     ]
    }
   ],
   "execution_count": 1
  },
  {
   "metadata": {},
   "cell_type": "code",
   "outputs": [],
   "execution_count": null,
   "source": "",
   "id": "1d9ad25b8e042b9e"
  }
 ],
 "metadata": {
  "kernelspec": {
   "display_name": "Python 3",
   "language": "python",
   "name": "python3"
  },
  "language_info": {
   "codemirror_mode": {
    "name": "ipython",
    "version": 2
   },
   "file_extension": ".py",
   "mimetype": "text/x-python",
   "name": "python",
   "nbconvert_exporter": "python",
   "pygments_lexer": "ipython2",
   "version": "2.7.6"
  }
 },
 "nbformat": 4,
 "nbformat_minor": 5
}
