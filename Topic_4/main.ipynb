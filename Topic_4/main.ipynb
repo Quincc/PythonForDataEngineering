{
 "cells": [
  {
   "cell_type": "code",
   "id": "initial_id",
   "metadata": {
    "collapsed": true,
    "ExecuteTime": {
     "end_time": "2024-10-12T11:43:04.188939Z",
     "start_time": "2024-10-12T11:43:04.183938Z"
    }
   },
   "source": [
    "import re\n",
    "\n",
    "num_pattern = re.compile(r'^[А-Я]{1}([0-9]{3})[А-Я]{2}[0-9]{1}[1-9]{1}([1-9]){0,1}$')\n",
    "def checknumber(str):\n",
    "   if num_pattern.match(str) and (len(str) == 8 or len(str) == 9):\n",
    "       reg = re.split(r'[А-Я]{2}', str)[1]\n",
    "       num = str.split(reg)[0]\n",
    "       print('Номер %s валиден. Регион %s'%(num, reg))\n",
    "   else:\n",
    "       print('Номер не валиден')\n",
    "\n",
    "checknumber('А001АА774')"
   ],
   "outputs": [
    {
     "name": "stdout",
     "output_type": "stream",
     "text": [
      "Номер А001АА валиден. Регион 774\n"
     ]
    }
   ],
   "execution_count": 1
  }
 ],
 "metadata": {
  "kernelspec": {
   "display_name": "Python 3",
   "language": "python",
   "name": "python3"
  },
  "language_info": {
   "codemirror_mode": {
    "name": "ipython",
    "version": 2
   },
   "file_extension": ".py",
   "mimetype": "text/x-python",
   "name": "python",
   "nbconvert_exporter": "python",
   "pygments_lexer": "ipython2",
   "version": "2.7.6"
  }
 },
 "nbformat": 4,
 "nbformat_minor": 5
}
