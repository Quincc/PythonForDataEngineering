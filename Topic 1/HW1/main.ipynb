{
 "cells": [
  {
   "cell_type": "code",
   "id": "initial_id",
   "metadata": {
    "collapsed": true,
    "ExecuteTime": {
     "end_time": "2024-09-14T08:39:36.400067Z",
     "start_time": "2024-09-14T08:39:36.314470Z"
    }
   },
   "source": [
    "purchases = {}\n",
    "with open('visit_log.csv', 'r') as file:\n",
    "    for line in file:\n",
    "        res = line.split(',')\n",
    "        purchases[res[0]] = res[1].removesuffix('\\n')\n",
    "items = purchases.items()\n",
    "res = list(items)\n",
    "print(res[0])\n",
    "print(res[1])\n",
    "#print(items)"
   ],
   "outputs": [
    {
     "name": "stdout",
     "output_type": "stream",
     "text": [
      "('user_id', 'source')\n",
      "('6450655ae8', 'other')\n"
     ]
    }
   ],
   "execution_count": 7
  },
  {
   "metadata": {},
   "cell_type": "markdown",
   "source": "",
   "id": "b6eb68f9f32860f5"
  }
 ],
 "metadata": {
  "kernelspec": {
   "display_name": "Python 3",
   "language": "python",
   "name": "python3"
  },
  "language_info": {
   "codemirror_mode": {
    "name": "ipython",
    "version": 2
   },
   "file_extension": ".py",
   "mimetype": "text/x-python",
   "name": "python",
   "nbconvert_exporter": "python",
   "pygments_lexer": "ipython2",
   "version": "2.7.6"
  }
 },
 "nbformat": 4,
 "nbformat_minor": 5
}
