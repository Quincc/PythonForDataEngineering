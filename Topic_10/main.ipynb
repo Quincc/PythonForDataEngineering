{
 "cells": [
  {
   "cell_type": "code",
   "id": "initial_id",
   "metadata": {
    "collapsed": true,
    "ExecuteTime": {
     "end_time": "2024-12-02T13:20:43.537855Z",
     "start_time": "2024-12-02T13:20:24.331766Z"
    }
   },
   "source": [
    "from pyspark.sql import functions as F\n",
    "import time\n",
    "from sdv.single_table import GaussianCopulaSynthesizer\n",
    "from sdv.metadata import Metadata\n",
    "import pandas as pd\n",
    "from pyspark.sql import SparkSession\n",
    "\n",
    "path = '/Users/maximgolovchenko/Documents/University/HSE/PythonForDataEngineering/Topic_10/'\n",
    "df = pd.read_csv(path + 'electronic_devices.csv')\n",
    "df['addons'] = df['addons'].fillna('')\n",
    "df['addons'] = df['addons'].apply(lambda x: len(x.split(',')))\n",
    "\n",
    "metadata = Metadata.detect_from_dataframe(\n",
    "    data=df,\n",
    "    table_name='electronic_devices')\n",
    "\n",
    "synthesizer = GaussianCopulaSynthesizer(metadata)\n",
    "synthesizer.fit(df)\n",
    "\n",
    "synthetic_data = synthesizer.sample(num_rows=1_000_000)\n",
    "synthetic_data.to_csv(path + 'generated_electronic_devices.csv', index=False)\n",
    "\n",
    "spark = SparkSession.builder \\\n",
    "    .appName(\"Electronic Devices Analysis\") \\\n",
    "    .getOrCreate()\n",
    "\n",
    "spark.sparkContext.setCheckpointDir(path)\n",
    "\n",
    "\n",
    "df_spark = spark.read.csv(\n",
    "    path + 'generated_electronic_devices.csv', header=True, inferSchema=True)\n",
    "\n",
    "filtered_data = df_spark.filter(\n",
    "    (df_spark.purchase_date == '2024-09-03') & (df_spark.addons == 1))\n",
    "\n",
    "result = filtered_data.groupBy('gender', 'age').agg(\n",
    "    (F.max('unit_price') - F.min('unit_price')).alias('price_difference'),\n",
    "    (F.max('total_price') - F.min('total_price')).alias('order_difference')\n",
    ")\n",
    "\n",
    "result_collected = result.collect()\n",
    "\n",
    "start_time = time.time()\n",
    "result_no_cache = filtered_data.groupBy('gender', 'age').agg(\n",
    "    (F.max('unit_price') - F.min('unit_price')).alias('price_difference'),\n",
    "    (F.max('total_price') - F.min('total_price')).alias('order_difference')\n",
    ").collect()\n",
    "no_cache_duration = time.time() - start_time\n",
    "\n",
    "filtered_data.cache()\n",
    "start_time = time.time()\n",
    "result_with_cache = filtered_data.groupBy('gender', 'age').agg(\n",
    "    (F.max('unit_price') - F.min('unit_price')).alias('price_difference'),\n",
    "    (F.max('total_price') - F.min('total_price')).alias('order_difference')\n",
    ").collect()\n",
    "cache_duration = time.time() - start_time\n",
    "\n",
    "filtered_data.checkpoint()\n",
    "start_time = time.time()\n",
    "result_with_checkpoint = filtered_data.groupBy('gender', 'age').agg(\n",
    "    (F.max('unit_price') - F.min('unit_price')).alias('price_difference'),\n",
    "    (F.max('total_price') - F.min('total_price')).alias('order_difference')\n",
    ").collect()\n",
    "checkpoint_duration = time.time() - start_time\n",
    "\n",
    "print(f\"Duration without caching: {no_cache_duration} seconds\")\n",
    "print(f\"Duration with caching: {cache_duration} seconds\")\n",
    "print(f\"Duration with checkpointing: {checkpoint_duration} seconds\")"
   ],
   "outputs": [
    {
     "name": "stderr",
     "output_type": "stream",
     "text": [
      "/Users/maximgolovchenko/Library/Mobile Documents/com~apple~CloudDocs/Documents/University/HSE/PythonForDataEngineering/.venv/lib/python3.9/site-packages/sdv/single_table/base.py:104: UserWarning: We strongly recommend saving the metadata using 'save_to_json' for replicability in future SDV versions.\n",
      "  warnings.warn(\n",
      "24/12/02 18:20:43 WARN CacheManager: Asked to cache already cached data.        \n"
     ]
    },
    {
     "name": "stdout",
     "output_type": "stream",
     "text": [
      "Duration without caching: 0.1847553253173828 seconds\n",
      "Duration with caching: 0.1622939109802246 seconds\n",
      "Duration with checkpointing: 0.16279101371765137 seconds\n"
     ]
    }
   ],
   "execution_count": 2
  },
  {
   "metadata": {},
   "cell_type": "code",
   "outputs": [],
   "execution_count": null,
   "source": "",
   "id": "7788db043ef90f04"
  }
 ],
 "metadata": {
  "kernelspec": {
   "display_name": "Python 3",
   "language": "python",
   "name": "python3"
  },
  "language_info": {
   "codemirror_mode": {
    "name": "ipython",
    "version": 2
   },
   "file_extension": ".py",
   "mimetype": "text/x-python",
   "name": "python",
   "nbconvert_exporter": "python",
   "pygments_lexer": "ipython2",
   "version": "2.7.6"
  }
 },
 "nbformat": 4,
 "nbformat_minor": 5
}
