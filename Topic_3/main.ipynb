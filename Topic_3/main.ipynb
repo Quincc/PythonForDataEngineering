{
 "cells": [
  {
   "cell_type": "code",
   "id": "initial_id",
   "metadata": {
    "collapsed": true,
    "ExecuteTime": {
     "end_time": "2024-10-05T17:56:19.852387Z",
     "start_time": "2024-10-05T17:56:19.847767Z"
    }
   },
   "source": [
    "import account\n",
    "\n",
    "a = account.Account('maxim', 100)\n",
    "a.add_money(250)\n",
    "a.withdraw_money(230)\n",
    "print(a.name)\n",
    "print(a.balance)\n",
    "print(a.history)"
   ],
   "outputs": [
    {
     "name": "stdout",
     "output_type": "stream",
     "text": [
      "maxim\n",
      "120\n",
      "250 added\n",
      "230 withdrawn\n",
      "\n"
     ]
    }
   ],
   "execution_count": 1
  },
  {
   "metadata": {},
   "cell_type": "code",
   "outputs": [],
   "execution_count": null,
   "source": "",
   "id": "277f8b3046f33fb9"
  }
 ],
 "metadata": {
  "kernelspec": {
   "display_name": "Python 3",
   "language": "python",
   "name": "python3"
  },
  "language_info": {
   "codemirror_mode": {
    "name": "ipython",
    "version": 2
   },
   "file_extension": ".py",
   "mimetype": "text/x-python",
   "name": "python",
   "nbconvert_exporter": "python",
   "pygments_lexer": "ipython2",
   "version": "2.7.6"
  }
 },
 "nbformat": 4,
 "nbformat_minor": 5
}
